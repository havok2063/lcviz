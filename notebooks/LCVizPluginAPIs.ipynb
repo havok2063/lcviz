{
 "cells": [
  {
   "cell_type": "code",
   "execution_count": 1,
   "id": "6a3d2b40-e9fe-49f6-b7f1-7e34ca83ee9b",
   "metadata": {},
   "outputs": [
    {
     "name": "stderr",
     "output_type": "stream",
     "text": [
      "/Users/kconroy/miniconda3/envs/lcviz2/lib/python3.11/site-packages/glue/viewers/common/qt/__init__.py:3: GlueDeprecationWarning: Importing from glue.viewers.common.qt is deprecated, use glue_qt.viewers.common) instead\n",
      "  warnings.warn('Importing from glue.viewers.common.qt is deprecated, use glue_qt.viewers.common) instead', GlueDeprecationWarning)\n",
      "/Users/kconroy/miniconda3/envs/lcviz2/lib/python3.11/site-packages/traittypes/traittypes.py:97: UserWarning: Given trait value dtype \"float64\" does not match required type \"float64\". A coerced copy has been created.\n",
      "  warnings.warn(\n"
     ]
    },
    {
     "data": {
      "application/vnd.jupyter.widget-view+json": {
       "model_id": "6588bb17482a4fd0af6f2bfab726bb2b",
       "version_major": 2,
       "version_minor": 0
      },
      "text/plain": [
       "Application(config='lcviz', docs_link='https://lcviz.readthedocs.io', events=['call_viewer_method', 'close_sna…"
      ]
     },
     "metadata": {},
     "output_type": "display_data"
    }
   ],
   "source": [
    "from astropy.utils.data import download_file\n",
    "from lightkurve import search_lightcurve\n",
    "from lcviz import LCviz\n",
    "\n",
    "lc = search_lightcurve(\"HAT-P-11\", mission=\"Kepler\", cadence=\"long\", quarter=10).download()\n",
    "\n",
    "lcviz = LCviz()\n",
    "lcviz.load_data(lc)\n",
    "lcviz.show()"
   ]
  },
  {
   "cell_type": "markdown",
   "id": "cdb4a4fc-dadb-49b0-a32d-8e51e3c49973",
   "metadata": {},
   "source": [
    "Each plugin in the sidebar also has its own user-friendly API to allow creating reproducible workflows in Jupyter.  These are accessible via the `lcviz.plugins` dictionary, where the keys are the names of the plugins:"
   ]
  },
  {
   "cell_type": "code",
   "execution_count": 2,
   "id": "e065d006-9d9b-428c-8df3-5e3229274dff",
   "metadata": {
    "tags": []
   },
   "outputs": [
    {
     "name": "stdout",
     "output_type": "stream",
     "text": [
      "{'Metadata': <Metadata API>, 'Plot Options': <Plot Options API>, 'Subset Tools': <Subset Tools API>, 'Markers': <Markers API>, 'Flatten': <Flatten API>, 'Frequency Analysis': <Frequency Analysis API>, 'Ephemeris': <Ephemeris API>, 'Export Plot': <Export Plot API>}\n"
     ]
    }
   ],
   "source": [
    "print(lcviz.plugins)"
   ]
  },
  {
   "cell_type": "markdown",
   "id": "1c8641b3-4c3f-4008-b8b0-55ae82f2a198",
   "metadata": {},
   "source": [
    "We can now access the API of any of these plugins.  For this example, we'll use the [Flatten plugin](https://lcviz.readthedocs.io/en/latest/plugins.html#flatten) to flatten the light curve from the [Flatten plugin API](https://lcviz.readthedocs.io/en/latest/api/lcviz.plugins.flatten.flatten.Flatten.html).\n",
    "\n",
    "Links to the docs are also available from the plugin UI, which can be shown either in the tray of the app or in its own cell, via the \"Learn More\" link."
   ]
  },
  {
   "cell_type": "code",
   "execution_count": 3,
   "id": "f2ce3528-6e34-4c47-bad5-106ae9e97acd",
   "metadata": {
    "tags": []
   },
   "outputs": [
    {
     "name": "stdout",
     "output_type": "stream",
     "text": [
      "<Flatten API>\n"
     ]
    }
   ],
   "source": [
    "flatten = lcviz.plugins['Flatten']\n",
    "print(flatten)"
   ]
  },
  {
   "cell_type": "markdown",
   "id": "bde54848-a2cd-4e50-8354-dcb7f532e2eb",
   "metadata": {},
   "source": [
    "the basic API docs can also be shown in the notebook (with `help(plugin)` or `plugin?`) and the list of available attributes and methods is accessible with `dir(plugin)`:"
   ]
  },
  {
   "cell_type": "code",
   "execution_count": 4,
   "id": "3d0c5819-040c-4ace-8ff1-6efbd28aa624",
   "metadata": {
    "tags": []
   },
   "outputs": [
    {
     "name": "stdout",
     "output_type": "stream",
     "text": [
      "Help on PluginUserApi in module jdaviz.core.user_api:\n",
      "\n",
      "<Flatten API>\n",
      "    This is an API wrapper around an internal plugin.  For a full list of attributes/methods,\n",
      "    call dir(plugin_object) and for help on any of those methods,\n",
      "    call help(plugin_object.attribute).\n",
      "    \n",
      "    For example::\n",
      "      help(plugin_object.show)\n",
      "    \n",
      "    \n",
      "    \n",
      "    \n",
      "    See the :ref:`Flatten Plugin Documentation <flatten>` for more details.\n",
      "    \n",
      "    Only the following attributes and methods are available through the\n",
      "    public plugin API.\n",
      "    \n",
      "    * ``show_live_preview``\n",
      "    * ``default_to_overwrite``\n",
      "    * ``dataset`` (:class:`~jdaviz.core.template_mixin.DatasetSelect`):\n",
      "      Dataset to flatten.\n",
      "    * ``add_results`` (:class:`~jdaviz.core.template_mixin.AddResults`)\n",
      "    * ``window_length``\n",
      "    * ``polyorder``\n",
      "    * ``break_tolerance``\n",
      "    * ``niters``\n",
      "    * ``sigma``\n",
      "    * ``unnormalize``\n",
      "    * :meth:`flatten`\n",
      "\n"
     ]
    }
   ],
   "source": [
    "help(flatten)"
   ]
  },
  {
   "cell_type": "code",
   "execution_count": 5,
   "id": "343a947d-c555-4b41-981a-73e69165cff5",
   "metadata": {
    "tags": []
   },
   "outputs": [
    {
     "data": {
      "text/plain": [
       "['add_results',\n",
       " 'as_active',\n",
       " 'break_tolerance',\n",
       " 'dataset',\n",
       " 'default_to_overwrite',\n",
       " 'flatten',\n",
       " 'keep_active',\n",
       " 'niters',\n",
       " 'open_in_tray',\n",
       " 'polyorder',\n",
       " 'show',\n",
       " 'show_live_preview',\n",
       " 'sigma',\n",
       " 'unnormalize',\n",
       " 'window_length']"
      ]
     },
     "execution_count": 5,
     "metadata": {},
     "output_type": "execute_result"
    }
   ],
   "source": [
    "dir(flatten)"
   ]
  },
  {
   "cell_type": "markdown",
   "id": "805bc16d-77c8-495b-9360-b184045449b6",
   "metadata": {},
   "source": [
    "We can see here that all the widgets in the plugin UI have corresponding attributes or methods in the plugin API."
   ]
  },
  {
   "cell_type": "code",
   "execution_count": 6,
   "id": "f9571d6f-7880-4825-8ea8-90f01c9260f9",
   "metadata": {
    "tags": []
   },
   "outputs": [
    {
     "name": "stdout",
     "output_type": "stream",
     "text": [
      "<selected='KIC 10748390[pdcsap_flux]' choices=['KIC 10748390[pdcsap_flux]']>\n"
     ]
    }
   ],
   "source": [
    "print(flatten.dataset)"
   ]
  },
  {
   "cell_type": "code",
   "execution_count": 7,
   "id": "9ebfffac-f5db-47e8-8f64-69267d36c2b3",
   "metadata": {
    "tags": []
   },
   "outputs": [],
   "source": [
    "flatten.polyorder = 4\n",
    "flatten.niters = 5\n",
    "flatten.sigma = 3\n",
    "flatten.unnormalize = True"
   ]
  },
  {
   "cell_type": "markdown",
   "id": "dee97981-d659-4dbd-8dad-32e70f776340",
   "metadata": {},
   "source": [
    "As shown in the API docs, calling `.flatten()` returns both the flattened and trend light curve as `lightkurve` objects, and would load that entry back into the app by default."
   ]
  },
  {
   "cell_type": "code",
   "execution_count": 8,
   "id": "42ee10bc-c45e-4d6c-b213-23862816e9af",
   "metadata": {
    "tags": []
   },
   "outputs": [
    {
     "name": "stdout",
     "output_type": "stream",
     "text": [
      "Help on method flatten in module lcviz.plugins.flatten.flatten:\n",
      "\n",
      "flatten(add_data=True) method of lcviz.plugins.flatten.flatten.Flatten instance\n",
      "    Flatten the input light curve (``dataset``) using lightkurve.flatten.\n",
      "    \n",
      "    Parameters\n",
      "    ----------\n",
      "    add_data : bool\n",
      "        Whether to add the resulting trace to the application, according to the options\n",
      "        defined in the plugin.\n",
      "    \n",
      "    Returns\n",
      "    -------\n",
      "    output_lc : `~lightkurve.LightCurve`\n",
      "        The flattened light curve.\n",
      "    trend_lc : `~lightkurve.LightCurve`\n",
      "        The trend used to flatten the light curve.\n",
      "\n"
     ]
    }
   ],
   "source": [
    "help(flatten.flatten)"
   ]
  },
  {
   "cell_type": "code",
   "execution_count": 9,
   "id": "23e1f0ea-b276-48b2-a741-40405dfc9740",
   "metadata": {
    "tags": []
   },
   "outputs": [
    {
     "name": "stdout",
     "output_type": "stream",
     "text": [
      "<class 'lightkurve.lightcurve.LightCurve'>\n"
     ]
    }
   ],
   "source": [
    "flattened_lc, trend_lc = flatten.flatten(add_data=False)\n",
    "print(type(flattened_lc))"
   ]
  },
  {
   "cell_type": "markdown",
   "id": "f4434983-a768-4034-836e-99196f241119",
   "metadata": {},
   "source": [
    "To load the results back as a data entry, we could pass `add_data=True` instead, in which case a new entry will be added to the app according to the label and viewer defined in `add_results`."
   ]
  },
  {
   "cell_type": "code",
   "execution_count": 10,
   "id": "f3284727-6954-457b-9572-f1df69f3ddde",
   "metadata": {
    "tags": []
   },
   "outputs": [
    {
     "name": "stdout",
     "output_type": "stream",
     "text": [
      "<AddResults label='KIC 10748390[pdcsap_flux]', auto=True, viewer=flux-vs-time>\n"
     ]
    }
   ],
   "source": [
    "print(flatten.add_results)"
   ]
  },
  {
   "cell_type": "markdown",
   "id": "dbdc6be0-f9ea-4826-9c65-f20ce07eab3d",
   "metadata": {},
   "source": [
    "In the case of the flattening plugin, we can see that this will overwrite the input data entry.  To avoid that, we can set the label to something else or toggle the setting to generate an automatic label that will not overwrite."
   ]
  },
  {
   "cell_type": "code",
   "execution_count": 11,
   "id": "a7ab91eb-a7bf-49b7-b9f1-de6ea55d98a7",
   "metadata": {
    "tags": []
   },
   "outputs": [],
   "source": [
    "flatten.default_to_overwrite = False"
   ]
  },
  {
   "cell_type": "code",
   "execution_count": 12,
   "id": "76150080-64dc-4b09-835a-132618615a72",
   "metadata": {
    "tags": []
   },
   "outputs": [
    {
     "data": {
      "text/plain": [
       "<AddResults label='KIC 10748390[pdcsap_flux] (flattened)', auto=True, viewer=flux-vs-time>"
      ]
     },
     "execution_count": 12,
     "metadata": {},
     "output_type": "execute_result"
    }
   ],
   "source": [
    "flatten.add_results"
   ]
  },
  {
   "cell_type": "code",
   "execution_count": 13,
   "id": "802711dd-d208-4168-b5ca-0ae1b01fcc0d",
   "metadata": {
    "tags": []
   },
   "outputs": [],
   "source": [
    "flattened_lc, trend_lc = flatten.flatten(add_data=True)"
   ]
  },
  {
   "cell_type": "markdown",
   "id": "3dda5f1b-386b-4b40-a8d2-021e7ecf4d7b",
   "metadata": {},
   "source": [
    "Now that a new light curve has been added to the app, dataset dropdowns (and their respective UI elements) are updated to show the new entry (where applicable):"
   ]
  },
  {
   "cell_type": "code",
   "execution_count": 14,
   "id": "cf27a9e5-6c78-43f6-a222-3cc1ed435558",
   "metadata": {
    "tags": []
   },
   "outputs": [
    {
     "name": "stdout",
     "output_type": "stream",
     "text": [
      "<selected='KIC 10748390[pdcsap_flux]' choices=['KIC 10748390[pdcsap_flux]', 'KIC 10748390[pdcsap_flux] (flattened)']>\n"
     ]
    }
   ],
   "source": [
    "print(flatten.dataset)"
   ]
  },
  {
   "cell_type": "code",
   "execution_count": null,
   "id": "0a18773b-188e-4769-8f22-21bbf8557e0e",
   "metadata": {},
   "outputs": [],
   "source": []
  }
 ],
 "metadata": {
  "kernelspec": {
   "display_name": "Python 3 (ipykernel)",
   "language": "python",
   "name": "python3"
  },
  "language_info": {
   "codemirror_mode": {
    "name": "ipython",
    "version": 3
   },
   "file_extension": ".py",
   "mimetype": "text/x-python",
   "name": "python",
   "nbconvert_exporter": "python",
   "pygments_lexer": "ipython3",
   "version": "3.11.5"
  }
 },
 "nbformat": 4,
 "nbformat_minor": 5
}
